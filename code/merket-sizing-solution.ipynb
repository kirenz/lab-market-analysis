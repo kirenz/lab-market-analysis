{
 "cells": [
  {
   "cell_type": "markdown",
   "metadata": {},
   "source": [
    "Prof. Dr. Kirenz <br/>\n",
    "HdM Stuttgart\n",
    "\n",
    "---\n",
    "\n",
    "# Market Research Case I\n",
    "\n",
    "- You are a market researcher in the department of company X. \n",
    "- There are three different customer segments in your market.\n",
    "- You’re two top competitors are the companies Y and Z.\n",
    "\n",
    "---"
   ]
  },
  {
   "cell_type": "markdown",
   "metadata": {
    "toc": true
   },
   "source": [
    "<h1>Table of Contents<span class=\"tocSkip\"></span></h1>\n",
    "<div class=\"toc\"><ul class=\"toc-item\"><li><span><a href=\"#Market-Penetration\" data-toc-modified-id=\"Market-Penetration-1\"><span class=\"toc-item-num\">1&nbsp;&nbsp;</span>Market Penetration</a></span></li><li><span><a href=\"#Market-Overview-by-Customer-Segment\" data-toc-modified-id=\"Market-Overview-by-Customer-Segment-2\"><span class=\"toc-item-num\">2&nbsp;&nbsp;</span>Market Overview by Customer Segment</a></span></li><li><span><a href=\"#Potential-Market-Sales\" data-toc-modified-id=\"Potential-Market-Sales-3\"><span class=\"toc-item-num\">3&nbsp;&nbsp;</span>Potential Market Sales</a></span></li><li><span><a href=\"#Current-Market-Sales\" data-toc-modified-id=\"Current-Market-Sales-4\"><span class=\"toc-item-num\">4&nbsp;&nbsp;</span>Current Market Sales</a></span></li><li><span><a href=\"#Current-Market-Share-by-Segment\" data-toc-modified-id=\"Current-Market-Share-by-Segment-5\"><span class=\"toc-item-num\">5&nbsp;&nbsp;</span>Current Market Share by Segment</a></span></li><li><span><a href=\"#Current-Market-Units-and-Average-Price\" data-toc-modified-id=\"Current-Market-Units-and-Average-Price-6\"><span class=\"toc-item-num\">6&nbsp;&nbsp;</span>Current Market Units and Average Price</a></span></li><li><span><a href=\"#Current-Market-Average-Units-and-Price-by-Brand\" data-toc-modified-id=\"Current-Market-Average-Units-and-Price-by-Brand-7\"><span class=\"toc-item-num\">7&nbsp;&nbsp;</span>Current Market Average Units and Price by Brand</a></span></li><li><span><a href=\"#Current-Market-Share-by-Brand\" data-toc-modified-id=\"Current-Market-Share-by-Brand-8\"><span class=\"toc-item-num\">8&nbsp;&nbsp;</span>Current Market Share by Brand</a></span></li></ul></div>"
   ]
  },
  {
   "cell_type": "markdown",
   "metadata": {},
   "source": [
    "## Market Penetration\n",
    "\n",
    "- a) Calculate the market penetration.\t\n",
    "- b) Determine the market growth opportunity."
   ]
  },
  {
   "cell_type": "code",
   "execution_count": 1,
   "metadata": {},
   "outputs": [],
   "source": [
    "# Market potential\n",
    "potential_customers = 150000000\n",
    "# Market volume\n",
    "current_customers = 20000000"
   ]
  },
  {
   "cell_type": "markdown",
   "metadata": {},
   "source": [
    " a) Market Penetration (percentage)"
   ]
  },
  {
   "cell_type": "code",
   "execution_count": null,
   "metadata": {},
   "outputs": [],
   "source": []
  },
  {
   "cell_type": "code",
   "execution_count": 2,
   "metadata": {},
   "outputs": [
    {
     "name": "stdout",
     "output_type": "stream",
     "text": [
      "13.33\n"
     ]
    }
   ],
   "source": [
    "# Market Penetration = Current Customers / Potential Customers\n",
    "market_penetration = (current_customers/potential_customers)*100\n",
    "print(round(market_penetration,2))"
   ]
  },
  {
   "cell_type": "code",
   "execution_count": 3,
   "metadata": {},
   "outputs": [
    {
     "name": "stdout",
     "output_type": "stream",
     "text": [
      "The market penetration equals 13.33 %\n"
     ]
    }
   ],
   "source": [
    "print('The market penetration equals', round(market_penetration,2),'%')"
   ]
  },
  {
   "cell_type": "markdown",
   "metadata": {},
   "source": [
    "b) Growth opportunity (percentage)"
   ]
  },
  {
   "cell_type": "code",
   "execution_count": 4,
   "metadata": {},
   "outputs": [
    {
     "name": "stdout",
     "output_type": "stream",
     "text": [
      "The market growth opportunity equals 86.67 %\n"
     ]
    }
   ],
   "source": [
    "market_growth_opp = (100 - market_penetration)\n",
    "print('The market growth opportunity equals', round(market_growth_opp,2), '%')"
   ]
  },
  {
   "cell_type": "markdown",
   "metadata": {},
   "source": [
    "**Interpretation**: Only about 13% of the 150 million  potential customers are currently buying the products, leaving a large poportion (86,67%) of the market available for future growth\n",
    "\n",
    "---"
   ]
  },
  {
   "cell_type": "markdown",
   "metadata": {},
   "source": [
    "## Market Overview by Customer Segment\n",
    "\n",
    "Calculate the growth potential for each of the user segments. "
   ]
  },
  {
   "cell_type": "code",
   "execution_count": 6,
   "metadata": {},
   "outputs": [],
   "source": [
    "# Market Segments for Potential Market (pm = potential market): Number of Users\n",
    "pm_first_users  = 30000000\n",
    "pm_second_users = 75000000\n",
    "pm_third_users  = 45000000\n",
    "\n",
    "# Market Segments for Current Market (cm = current market): Number of Users\n",
    "cm_first_users  = 6000000\n",
    "cm_second_users = 13000000\n",
    "cm_third_users  = 1000000"
   ]
  },
  {
   "cell_type": "code",
   "execution_count": 8,
   "metadata": {},
   "outputs": [
    {
     "name": "stdout",
     "output_type": "stream",
     "text": [
      "Market penetration of segment 1: 20.0 %\n",
      "Market penetration of segment 2: 17.33 %\n",
      "Market penetration of segment 3: 2.22 %\n"
     ]
    }
   ],
   "source": [
    "# % Market Penetration = Current Customers / Potential Customers \n",
    "\n",
    "mp_first = (cm_first_users / pm_first_users)*100\n",
    "print('Market penetration of segment 1:', round(mp_first,2), '%')\n",
    "  \n",
    "mp_second = (cm_second_users / pm_second_users)*100\n",
    "print('Market penetration of segment 2:', round(mp_second,2), '%')\n",
    "\n",
    "mp_third = (cm_third_users / pm_third_users)*100\n",
    "print('Market penetration of segment 3:',round(mp_third,2), '%')"
   ]
  },
  {
   "cell_type": "markdown",
   "metadata": {},
   "source": [
    "---"
   ]
  },
  {
   "cell_type": "markdown",
   "metadata": {},
   "source": [
    "## Potential Market Sales \n",
    "\n",
    "- a) Estimate potential annual sales in units for each customer segment. \n",
    "    \n",
    "- b) Determine total potential sales in units for the whole market.\n",
    "    \n",
    "- c) Estimate annual potential sales in revenue for each customer segment.\n",
    "    \n",
    "- d) Determine total potential sales in revenue for the whole market.\n"
   ]
  },
  {
   "cell_type": "code",
   "execution_count": 10,
   "metadata": {},
   "outputs": [],
   "source": [
    " # Market Segments for Current Market: Average Units per Year \n",
    "cm_first_users_units  = 21\n",
    "cm_second_users_units = 8\n",
    "cm_third_users_units  = 3\n",
    "\n",
    "# Market Segments for Current Market: Average Price Paid\n",
    "cm_first_users_price  = 1.99\n",
    "cm_second_users_price = 3.49\n",
    "cm_third_users_price  = 4.99"
   ]
  },
  {
   "cell_type": "markdown",
   "metadata": {},
   "source": [
    "a) Estimate potential annual sales in units for each customer segment. "
   ]
  },
  {
   "cell_type": "code",
   "execution_count": 12,
   "metadata": {},
   "outputs": [
    {
     "name": "stdout",
     "output_type": "stream",
     "text": [
      "First segment : 630000000\n",
      "Second segment: 600000000\n",
      "Third segment : 135000000\n"
     ]
    }
   ],
   "source": [
    "# Potential Customers x Avg. number of Units per Year = Potential Market Sales in Units\n",
    "# Potential Customers x Avg. number of Units per Year x Avg. Price = Potential Market Sales in Revenue\n",
    "\n",
    "pm_first_units = (pm_first_users * cm_first_users_units)\n",
    "print('First segment :', pm_first_units)\n",
    "  \n",
    "pm_second_units = (pm_second_users * cm_second_users_units)\n",
    "print('Second segment:', pm_second_units)\n",
    "  \n",
    "pm_third_units = (pm_third_users * cm_third_users_units)\n",
    "print('Third segment :', pm_third_units)\n",
    "  "
   ]
  },
  {
   "cell_type": "markdown",
   "metadata": {},
   "source": [
    "b) Determine total potential sales in units for the whole market."
   ]
  },
  {
   "cell_type": "code",
   "execution_count": 14,
   "metadata": {},
   "outputs": [
    {
     "name": "stdout",
     "output_type": "stream",
     "text": [
      "Units total: 1365000000\n"
     ]
    }
   ],
   "source": [
    "pm_units_total = pm_first_units  + pm_second_units + pm_third_units\n",
    "print('Units total:', pm_units_total)"
   ]
  },
  {
   "cell_type": "markdown",
   "metadata": {},
   "source": [
    "c) Estimate annual potential sales in revenue for each customer segment."
   ]
  },
  {
   "cell_type": "code",
   "execution_count": 19,
   "metadata": {},
   "outputs": [
    {
     "name": "stdout",
     "output_type": "stream",
     "text": [
      "First segment : 1253700000.0\n",
      "Second segment: 2094000000.0\n",
      "Third segment : 673650000.0\n"
     ]
    }
   ],
   "source": [
    "pm_first_rev = (pm_first_users * cm_first_users_units * cm_first_users_price)\n",
    "print('First segment :', pm_first_rev,)\n",
    "  \n",
    "pm_second_rev = (pm_second_users * cm_second_users_units* cm_second_users_price)\n",
    "print('Second segment:', round(pm_second_rev,0))\n",
    "  \n",
    "pm_third_rev = (pm_third_users * cm_third_users_units* cm_third_users_price)\n",
    "print('Third segment :', round(pm_third_rev,0))"
   ]
  },
  {
   "cell_type": "markdown",
   "metadata": {},
   "source": [
    "d) Determine total potential sales in revenue for the whole market."
   ]
  },
  {
   "cell_type": "code",
   "execution_count": 20,
   "metadata": {},
   "outputs": [
    {
     "name": "stdout",
     "output_type": "stream",
     "text": [
      "Revenue total: 4021350000.0\n"
     ]
    }
   ],
   "source": [
    "pm_rev_total = pm_first_rev  + pm_second_rev + pm_third_rev\n",
    "print('Revenue total:', round(pm_rev_total,0))"
   ]
  },
  {
   "cell_type": "markdown",
   "metadata": {},
   "source": [
    "---"
   ]
  },
  {
   "cell_type": "markdown",
   "metadata": {},
   "source": [
    "## Current Market Sales\n",
    "\n",
    "- a)\tCalculate the current market sales in units by segment. \n",
    "- b)\tAdd up the segment results to find the total current sales in units.\n",
    "- c)\tCalculate the current market sales in revenue by segment. \n",
    "- d)\tAdd up the segment results to find the total current sales in revenue.\n"
   ]
  },
  {
   "cell_type": "markdown",
   "metadata": {},
   "source": [
    "a) Calculate the current market sales in units by segment. "
   ]
  },
  {
   "cell_type": "code",
   "execution_count": 22,
   "metadata": {},
   "outputs": [
    {
     "name": "stdout",
     "output_type": "stream",
     "text": [
      "First Segment : 126000000\n",
      "Second Segment: 104000000\n",
      "Third Segment : 3000000\n"
     ]
    }
   ],
   "source": [
    "# Customers x Avg. number of Units per Year = Current Market Sales in Units\n",
    "# Customers x Avg. number of Units per Year x Avg. Price = Current Market Sales in Revenue\n",
    "  \n",
    "cm_first_units = (cm_first_users * cm_first_users_units)\n",
    "print('First Segment :', cm_first_units)\n",
    "  \n",
    "cm_second_units = (cm_second_users * cm_second_users_units)\n",
    "print('Second Segment:', cm_second_units)\n",
    "  \n",
    "cm_third_units = (cm_third_users * cm_third_users_units)\n",
    "print('Third Segment :', cm_third_units)\n",
    "  "
   ]
  },
  {
   "cell_type": "markdown",
   "metadata": {},
   "source": [
    "b) Add up the segment results to find the total current sales in units."
   ]
  },
  {
   "cell_type": "code",
   "execution_count": 23,
   "metadata": {},
   "outputs": [
    {
     "name": "stdout",
     "output_type": "stream",
     "text": [
      "Total Units: 233000000\n"
     ]
    }
   ],
   "source": [
    "cm_units_total = cm_first_units  + cm_second_units +cm_third_units\n",
    "print('Total Units:', cm_units_total)"
   ]
  },
  {
   "cell_type": "markdown",
   "metadata": {},
   "source": [
    "c) Calculate the current market sales in revenue by segment. "
   ]
  },
  {
   "cell_type": "code",
   "execution_count": null,
   "metadata": {},
   "outputs": [],
   "source": [
    "cm_first_rev = (cm_first_users * cm_first_users_units * cm_first_users_price)\n",
    "print('First Segment :', cm_first_rev)\n",
    "  \n",
    "cm_second_rev = (cm_second_users * cm_second_users_units* cm_second_users_price)\n",
    "print('Second Segment:', cm_second_rev)\n",
    "  \n",
    "cm_third_rev = (cm_third_users * cm_third_users_units* cm_third_users_price)\n",
    "print('Third Segment :', cm_third_rev)\n",
    "  "
   ]
  },
  {
   "cell_type": "markdown",
   "metadata": {},
   "source": [
    "d)\tAdd up the segment results to find the total current sales in revenue."
   ]
  },
  {
   "cell_type": "code",
   "execution_count": 25,
   "metadata": {},
   "outputs": [
    {
     "name": "stdout",
     "output_type": "stream",
     "text": [
      "Total Revenue 628670000.0\n"
     ]
    }
   ],
   "source": [
    "cm_rev_total = cm_first_rev  + cm_second_rev + cm_third_rev\n",
    "print('Total Revenue', cm_rev_total)"
   ]
  },
  {
   "cell_type": "markdown",
   "metadata": {},
   "source": [
    "---"
   ]
  },
  {
   "cell_type": "markdown",
   "metadata": {},
   "source": [
    "## Current Market Share by Segment\n",
    "\n",
    "Calculate the market share of each segment of the current market in terms of\n",
    "\n",
    "- a)\tcustomers.\n",
    "- b)\tunits sold. \n",
    "- c)\trevenue.\n"
   ]
  },
  {
   "cell_type": "code",
   "execution_count": null,
   "metadata": {},
   "outputs": [],
   "source": [
    "# Segment Customers / Total Customers = Current Market Share of Customers\n",
    "# Segment Units / Total Units = Current Market Share of Units\n",
    "# Segment Revenue / Total Revenue = Current Market Share of Revenue\n",
    "  "
   ]
  },
  {
   "cell_type": "markdown",
   "metadata": {},
   "source": [
    "a) customers"
   ]
  },
  {
   "cell_type": "code",
   "execution_count": null,
   "metadata": {},
   "outputs": [],
   "source": [
    "cm_first_share =  (cm_first_users / current_customers)*100\n",
    "print('First Segment:', cm_first_share)\n",
    "  \n",
    "cm_second_share =  (cm_moderate_users / current_customers)*100\n",
    "print('Moderate Buyers:', cm_mod_share)\n",
    "  \n",
    "cm_second_share =  (cm_occasional_users / current_customers)*100\n",
    "print('Occasional Buyers:', cm_occ_share)\n",
    "  \n",
    "    "
   ]
  },
  {
   "cell_type": "markdown",
   "metadata": {},
   "source": [
    "b) units sold"
   ]
  },
  {
   "cell_type": "code",
   "execution_count": 59,
   "metadata": {},
   "outputs": [
    {
     "name": "stdout",
     "output_type": "stream",
     "text": [
      "MARKET SHARE BY SEGMENT\n",
      "Frequent Buyers: 30.0\n",
      "Moderate Buyers: 65.0\n",
      "Occasional Buyers: 5.0\n",
      "\n",
      "\n",
      "MARKET SHARE BY UNITS\n",
      "Frequent Buyers: 54.08\n",
      "Moderate Buyers: 44.64\n",
      "Occasional Buyers: 1.29\n",
      "\n",
      "\n",
      "MARKET SHARE BY REVENUE\n",
      "Frequent Buyers: 39.88\n",
      "Moderate Buyers: 57.73\n",
      "Occasional Buyers: 2.38\n"
     ]
    }
   ],
   "source": [
    "cm_first_unit_share =  (cm_first_units / cm_units_total)*100\n",
    "print('First Buyers:',round(cm_first_unit_share,2))\n",
    "  \n",
    "cm_mod_unit_share =  (cm_mod_units / cm_units_total)*100\n",
    "print('Moderate Buyers:', round(cm_mod_unit_share,2))\n",
    "  \n",
    "cm_occ_unit_share =  (cm_occ_units / cm_units_total)*100\n",
    "print('Occasional Buyers:', round(cm_occ_unit_share,2))\n",
    "  \n",
    "#CURRENT MARKET SHARE REVENUE BY SEGMENT\n",
    "print('\\n')\n",
    "print('MARKET SHARE BY REVENUE')  \n",
    "cm_first_rev_share =  (cm_first_rev / cm_rev_total)*100\n",
    "print('First Buyers:',round(cm_first_rev_share,2))\n",
    "  \n",
    "cm_mod_rev_share =  (cm_mod_rev / cm_rev_total)*100\n",
    "print('Moderate Buyers:', round(cm_mod_rev_share,2))\n",
    "  \n",
    "cm_occ_rev_share =  (cm_occ_rev / cm_rev_total)*100\n",
    "print('Occasional Buyers:', round(cm_occ_rev_share,2))"
   ]
  },
  {
   "cell_type": "markdown",
   "metadata": {},
   "source": [
    "---"
   ]
  },
  {
   "cell_type": "markdown",
   "metadata": {},
   "source": [
    "## Current Market Units and Average Price\n",
    "\n",
    "- a)\tUse the current market’s total sales to determine, on average, how many units each customer purchases.\n",
    "\n",
    "- b)\tUse the current market’s total sales to determine, on average, at what price each customer purchases."
   ]
  },
  {
   "cell_type": "markdown",
   "metadata": {},
   "source": [
    "a) Use the current market’s total sales to determine, on average, how many units each customer purchases."
   ]
  },
  {
   "cell_type": "code",
   "execution_count": null,
   "metadata": {},
   "outputs": [],
   "source": []
  },
  {
   "cell_type": "markdown",
   "metadata": {},
   "source": [
    "b)\tUse the current market’s total sales to determine, on average, at what price each customer purchases."
   ]
  },
  {
   "cell_type": "code",
   "execution_count": null,
   "metadata": {},
   "outputs": [],
   "source": []
  },
  {
   "cell_type": "code",
   "execution_count": 35,
   "metadata": {},
   "outputs": [
    {
     "name": "stdout",
     "output_type": "stream",
     "text": [
      "Average number of units 11.65\n",
      "Average price paid 2.7\n"
     ]
    }
   ],
   "source": [
    "# Current Units per Year / Current Customers = Average number of Units per Customers \n",
    "# Current Revneue per Year / Current Units per Year = Average Price paid  \n",
    "  \n",
    "# AVERAGE UNITS OF ORANGE JUICE BOTTLES PER CUSTOMER\n",
    "cm_units_per_customer =  cm_units_total / current_customers\n",
    "print('Average number of units', cm_units_per_customer)\n",
    "  \n",
    "# AVERAGE PRICE PAID PER ORANGE JUICE BOTTLE\n",
    "cm_rev_per_juice =  cm_rev_total / cm_units_total\n",
    "print('Average price paid', round(cm_rev_per_juice,2))"
   ]
  },
  {
   "cell_type": "markdown",
   "metadata": {},
   "source": [
    "---\n",
    "---"
   ]
  },
  {
   "cell_type": "markdown",
   "metadata": {},
   "source": [
    "**Use the Python module Pandas to solve task 7 and 8**. "
   ]
  },
  {
   "cell_type": "code",
   "execution_count": 27,
   "metadata": {},
   "outputs": [],
   "source": [
    "import pandas as pd"
   ]
  },
  {
   "cell_type": "code",
   "execution_count": 28,
   "metadata": {},
   "outputs": [],
   "source": [
    "df = pd.DataFrame(\n",
    "   {'company' : ['X', 'Y', 'Z'],\n",
    "    'customers_year': [10000000, 6000000, 4000000],\n",
    "    'units_year': [90000000, 63000000, 80000000],\n",
    "    'revenue_year': [429000000, 125000000, 75000000]})"
   ]
  },
  {
   "cell_type": "code",
   "execution_count": 30,
   "metadata": {
    "scrolled": false
   },
   "outputs": [
    {
     "data": {
      "text/html": [
       "<div>\n",
       "<style scoped>\n",
       "    .dataframe tbody tr th:only-of-type {\n",
       "        vertical-align: middle;\n",
       "    }\n",
       "\n",
       "    .dataframe tbody tr th {\n",
       "        vertical-align: top;\n",
       "    }\n",
       "\n",
       "    .dataframe thead th {\n",
       "        text-align: right;\n",
       "    }\n",
       "</style>\n",
       "<table border=\"1\" class=\"dataframe\">\n",
       "  <thead>\n",
       "    <tr style=\"text-align: right;\">\n",
       "      <th></th>\n",
       "      <th>company</th>\n",
       "      <th>customers_year</th>\n",
       "      <th>units_year</th>\n",
       "      <th>revenue_year</th>\n",
       "    </tr>\n",
       "  </thead>\n",
       "  <tbody>\n",
       "    <tr>\n",
       "      <th>0</th>\n",
       "      <td>X</td>\n",
       "      <td>10000000</td>\n",
       "      <td>90000000</td>\n",
       "      <td>429000000</td>\n",
       "    </tr>\n",
       "    <tr>\n",
       "      <th>1</th>\n",
       "      <td>Y</td>\n",
       "      <td>6000000</td>\n",
       "      <td>63000000</td>\n",
       "      <td>125000000</td>\n",
       "    </tr>\n",
       "    <tr>\n",
       "      <th>2</th>\n",
       "      <td>Z</td>\n",
       "      <td>4000000</td>\n",
       "      <td>80000000</td>\n",
       "      <td>75000000</td>\n",
       "    </tr>\n",
       "  </tbody>\n",
       "</table>\n",
       "</div>"
      ],
      "text/plain": [
       "  company  customers_year  units_year  revenue_year\n",
       "0       X        10000000    90000000     429000000\n",
       "1       Y         6000000    63000000     125000000\n",
       "2       Z         4000000    80000000      75000000"
      ]
     },
     "execution_count": 30,
     "metadata": {},
     "output_type": "execute_result"
    }
   ],
   "source": [
    "df"
   ]
  },
  {
   "cell_type": "markdown",
   "metadata": {},
   "source": [
    "## Current Market Average Units and Price by Brand\n",
    "\n",
    "- a)\tCalculate the average number of units purchased by a customer of X, Y, and Z.\n",
    "\n"
   ]
  },
  {
   "cell_type": "markdown",
   "metadata": {},
   "source": [
    "a)\tCalculate the average number of units purchased by a customer of X, Y, and Z."
   ]
  },
  {
   "cell_type": "code",
   "execution_count": null,
   "metadata": {},
   "outputs": [],
   "source": []
  },
  {
   "cell_type": "markdown",
   "metadata": {},
   "source": [
    "b)\tCompare these results with the general averages that you calculated in task 6."
   ]
  },
  {
   "cell_type": "code",
   "execution_count": null,
   "metadata": {},
   "outputs": [],
   "source": []
  },
  {
   "cell_type": "code",
   "execution_count": 43,
   "metadata": {},
   "outputs": [
    {
     "data": {
      "text/html": [
       "<div>\n",
       "<style scoped>\n",
       "    .dataframe tbody tr th:only-of-type {\n",
       "        vertical-align: middle;\n",
       "    }\n",
       "\n",
       "    .dataframe tbody tr th {\n",
       "        vertical-align: top;\n",
       "    }\n",
       "\n",
       "    .dataframe thead th {\n",
       "        text-align: right;\n",
       "    }\n",
       "</style>\n",
       "<table border=\"1\" class=\"dataframe\">\n",
       "  <thead>\n",
       "    <tr style=\"text-align: right;\">\n",
       "      <th></th>\n",
       "      <th>company</th>\n",
       "      <th>customers_year</th>\n",
       "      <th>units_year</th>\n",
       "      <th>revenue_year</th>\n",
       "      <th>units_per_brand</th>\n",
       "    </tr>\n",
       "  </thead>\n",
       "  <tbody>\n",
       "    <tr>\n",
       "      <th>0</th>\n",
       "      <td>Red</td>\n",
       "      <td>10000000</td>\n",
       "      <td>90000000</td>\n",
       "      <td>429000000</td>\n",
       "      <td>9.0</td>\n",
       "    </tr>\n",
       "    <tr>\n",
       "      <th>1</th>\n",
       "      <td>Blue</td>\n",
       "      <td>6000000</td>\n",
       "      <td>63000000</td>\n",
       "      <td>125000000</td>\n",
       "      <td>10.5</td>\n",
       "    </tr>\n",
       "    <tr>\n",
       "      <th>2</th>\n",
       "      <td>Yellow</td>\n",
       "      <td>4000000</td>\n",
       "      <td>80000000</td>\n",
       "      <td>75000000</td>\n",
       "      <td>20.0</td>\n",
       "    </tr>\n",
       "  </tbody>\n",
       "</table>\n",
       "</div>"
      ],
      "text/plain": [
       "  company  customers_year  units_year  revenue_year  units_per_brand\n",
       "0     Red        10000000    90000000     429000000              9.0\n",
       "1    Blue         6000000    63000000     125000000             10.5\n",
       "2  Yellow         4000000    80000000      75000000             20.0"
      ]
     },
     "execution_count": 43,
     "metadata": {},
     "output_type": "execute_result"
    }
   ],
   "source": [
    "# AVERAGE UNITS PER YEAR PER BRAND\n",
    "df['units_per_brand'] = df['units_year']/df['customers_year']\n",
    "df.head()"
   ]
  },
  {
   "cell_type": "code",
   "execution_count": 63,
   "metadata": {},
   "outputs": [
    {
     "data": {
      "text/html": [
       "<div>\n",
       "<style scoped>\n",
       "    .dataframe tbody tr th:only-of-type {\n",
       "        vertical-align: middle;\n",
       "    }\n",
       "\n",
       "    .dataframe tbody tr th {\n",
       "        vertical-align: top;\n",
       "    }\n",
       "\n",
       "    .dataframe thead th {\n",
       "        text-align: right;\n",
       "    }\n",
       "</style>\n",
       "<table border=\"1\" class=\"dataframe\">\n",
       "  <thead>\n",
       "    <tr style=\"text-align: right;\">\n",
       "      <th></th>\n",
       "      <th>company</th>\n",
       "      <th>customers_year</th>\n",
       "      <th>units_year</th>\n",
       "      <th>revenue_year</th>\n",
       "      <th>units_per_brand</th>\n",
       "      <th>price</th>\n",
       "      <th>customer_total</th>\n",
       "      <th>customer_share</th>\n",
       "      <th>units_total</th>\n",
       "      <th>units_share</th>\n",
       "      <th>revenue_total</th>\n",
       "      <th>revenue_share</th>\n",
       "    </tr>\n",
       "  </thead>\n",
       "  <tbody>\n",
       "    <tr>\n",
       "      <th>0</th>\n",
       "      <td>Red</td>\n",
       "      <td>10000000</td>\n",
       "      <td>90000000</td>\n",
       "      <td>429000000</td>\n",
       "      <td>9.0</td>\n",
       "      <td>4.77</td>\n",
       "      <td>20000000</td>\n",
       "      <td>0.5</td>\n",
       "      <td>233000000</td>\n",
       "      <td>0.39</td>\n",
       "      <td>629000000</td>\n",
       "      <td>0.68</td>\n",
       "    </tr>\n",
       "    <tr>\n",
       "      <th>1</th>\n",
       "      <td>Blue</td>\n",
       "      <td>6000000</td>\n",
       "      <td>63000000</td>\n",
       "      <td>125000000</td>\n",
       "      <td>10.5</td>\n",
       "      <td>1.98</td>\n",
       "      <td>20000000</td>\n",
       "      <td>0.3</td>\n",
       "      <td>233000000</td>\n",
       "      <td>0.27</td>\n",
       "      <td>629000000</td>\n",
       "      <td>0.20</td>\n",
       "    </tr>\n",
       "    <tr>\n",
       "      <th>2</th>\n",
       "      <td>Yellow</td>\n",
       "      <td>4000000</td>\n",
       "      <td>80000000</td>\n",
       "      <td>75000000</td>\n",
       "      <td>20.0</td>\n",
       "      <td>0.94</td>\n",
       "      <td>20000000</td>\n",
       "      <td>0.2</td>\n",
       "      <td>233000000</td>\n",
       "      <td>0.34</td>\n",
       "      <td>629000000</td>\n",
       "      <td>0.12</td>\n",
       "    </tr>\n",
       "  </tbody>\n",
       "</table>\n",
       "</div>"
      ],
      "text/plain": [
       "  company  customers_year  units_year  revenue_year  units_per_brand  price  \\\n",
       "0     Red        10000000    90000000     429000000              9.0   4.77   \n",
       "1    Blue         6000000    63000000     125000000             10.5   1.98   \n",
       "2  Yellow         4000000    80000000      75000000             20.0   0.94   \n",
       "\n",
       "   customer_total  customer_share  units_total  units_share  revenue_total  \\\n",
       "0        20000000             0.5    233000000         0.39      629000000   \n",
       "1        20000000             0.3    233000000         0.27      629000000   \n",
       "2        20000000             0.2    233000000         0.34      629000000   \n",
       "\n",
       "   revenue_share  \n",
       "0           0.68  \n",
       "1           0.20  \n",
       "2           0.12  "
      ]
     },
     "execution_count": 63,
     "metadata": {},
     "output_type": "execute_result"
    }
   ],
   "source": [
    "# AVERAGE PRICE PAID PER BRAND\n",
    "df['price'] = round(df['revenue_year']/df['units_year'],2)\n",
    "df.head()"
   ]
  },
  {
   "cell_type": "markdown",
   "metadata": {},
   "source": [
    "---"
   ]
  },
  {
   "cell_type": "markdown",
   "metadata": {},
   "source": [
    "## Current Market Share by Brand\n",
    "\n",
    "Analyze the market share of each brand in terms of:\n",
    "- a)\tcustomers.\n",
    "- b)\tunits.\n",
    "- c)\trevenue.\n"
   ]
  },
  {
   "cell_type": "markdown",
   "metadata": {},
   "source": [
    "a)\tcustomers."
   ]
  },
  {
   "cell_type": "code",
   "execution_count": null,
   "metadata": {},
   "outputs": [],
   "source": []
  },
  {
   "cell_type": "markdown",
   "metadata": {},
   "source": [
    "b)\tunits."
   ]
  },
  {
   "cell_type": "code",
   "execution_count": null,
   "metadata": {},
   "outputs": [],
   "source": []
  },
  {
   "cell_type": "markdown",
   "metadata": {},
   "source": [
    "c)\trevenue."
   ]
  },
  {
   "cell_type": "code",
   "execution_count": null,
   "metadata": {},
   "outputs": [],
   "source": []
  },
  {
   "cell_type": "code",
   "execution_count": null,
   "metadata": {},
   "outputs": [],
   "source": []
  },
  {
   "cell_type": "code",
   "execution_count": 51,
   "metadata": {},
   "outputs": [],
   "source": [
    "# CUSTOMER SHARE\n",
    "df['customer_total'] = df['customers_year'].sum()\n",
    "df['customer_share'] = df['customers_year'] / df['customer_total']\n",
    "\n",
    "# UNITS SHARE\n",
    "df['units_total'] = df['units_year'].sum()\n",
    "df['units_share'] = round(df['units_year'] / df['units_total'],2)\n",
    "\n",
    "# REVENUE SHARE\n",
    "df['revenue_total'] = df['revenue_year'].sum()\n",
    "df['revenue_share'] = round(df['revenue_year'] / df['revenue_total'],2)  \n",
    "\n",
    "df['units_per_brand'] = df['units_year'] / df['customers_year']  "
   ]
  },
  {
   "cell_type": "code",
   "execution_count": 62,
   "metadata": {},
   "outputs": [
    {
     "data": {
      "text/html": [
       "<div>\n",
       "<style scoped>\n",
       "    .dataframe tbody tr th:only-of-type {\n",
       "        vertical-align: middle;\n",
       "    }\n",
       "\n",
       "    .dataframe tbody tr th {\n",
       "        vertical-align: top;\n",
       "    }\n",
       "\n",
       "    .dataframe thead th {\n",
       "        text-align: right;\n",
       "    }\n",
       "</style>\n",
       "<table border=\"1\" class=\"dataframe\">\n",
       "  <thead>\n",
       "    <tr style=\"text-align: right;\">\n",
       "      <th></th>\n",
       "      <th>company</th>\n",
       "      <th>customers_year</th>\n",
       "      <th>units_year</th>\n",
       "      <th>revenue_year</th>\n",
       "      <th>units_per_brand</th>\n",
       "      <th>price</th>\n",
       "      <th>customer_total</th>\n",
       "      <th>customer_share</th>\n",
       "      <th>units_total</th>\n",
       "      <th>units_share</th>\n",
       "      <th>revenue_total</th>\n",
       "      <th>revenue_share</th>\n",
       "    </tr>\n",
       "  </thead>\n",
       "  <tbody>\n",
       "    <tr>\n",
       "      <th>0</th>\n",
       "      <td>Red</td>\n",
       "      <td>10000000</td>\n",
       "      <td>90000000</td>\n",
       "      <td>429000000</td>\n",
       "      <td>9.0</td>\n",
       "      <td>4.77</td>\n",
       "      <td>20000000</td>\n",
       "      <td>0.5</td>\n",
       "      <td>233000000</td>\n",
       "      <td>0.39</td>\n",
       "      <td>629000000</td>\n",
       "      <td>0.68</td>\n",
       "    </tr>\n",
       "    <tr>\n",
       "      <th>1</th>\n",
       "      <td>Blue</td>\n",
       "      <td>6000000</td>\n",
       "      <td>63000000</td>\n",
       "      <td>125000000</td>\n",
       "      <td>10.5</td>\n",
       "      <td>1.98</td>\n",
       "      <td>20000000</td>\n",
       "      <td>0.3</td>\n",
       "      <td>233000000</td>\n",
       "      <td>0.27</td>\n",
       "      <td>629000000</td>\n",
       "      <td>0.20</td>\n",
       "    </tr>\n",
       "    <tr>\n",
       "      <th>2</th>\n",
       "      <td>Yellow</td>\n",
       "      <td>4000000</td>\n",
       "      <td>80000000</td>\n",
       "      <td>75000000</td>\n",
       "      <td>20.0</td>\n",
       "      <td>0.94</td>\n",
       "      <td>20000000</td>\n",
       "      <td>0.2</td>\n",
       "      <td>233000000</td>\n",
       "      <td>0.34</td>\n",
       "      <td>629000000</td>\n",
       "      <td>0.12</td>\n",
       "    </tr>\n",
       "  </tbody>\n",
       "</table>\n",
       "</div>"
      ],
      "text/plain": [
       "  company  customers_year  units_year  revenue_year  units_per_brand  price  \\\n",
       "0     Red        10000000    90000000     429000000              9.0   4.77   \n",
       "1    Blue         6000000    63000000     125000000             10.5   1.98   \n",
       "2  Yellow         4000000    80000000      75000000             20.0   0.94   \n",
       "\n",
       "   customer_total  customer_share  units_total  units_share  revenue_total  \\\n",
       "0        20000000             0.5    233000000         0.39      629000000   \n",
       "1        20000000             0.3    233000000         0.27      629000000   \n",
       "2        20000000             0.2    233000000         0.34      629000000   \n",
       "\n",
       "   revenue_share  \n",
       "0           0.68  \n",
       "1           0.20  \n",
       "2           0.12  "
      ]
     },
     "execution_count": 62,
     "metadata": {},
     "output_type": "execute_result"
    }
   ],
   "source": [
    "df.head()"
   ]
  }
 ],
 "metadata": {
  "kernelspec": {
   "display_name": "Python 3",
   "language": "python",
   "name": "python3"
  },
  "language_info": {
   "codemirror_mode": {
    "name": "ipython",
    "version": 3
   },
   "file_extension": ".py",
   "mimetype": "text/x-python",
   "name": "python",
   "nbconvert_exporter": "python",
   "pygments_lexer": "ipython3",
   "version": "3.6.8"
  },
  "toc": {
   "base_numbering": 1,
   "nav_menu": {},
   "number_sections": true,
   "sideBar": true,
   "skip_h1_title": true,
   "title_cell": "Table of Contents",
   "title_sidebar": "Contents",
   "toc_cell": true,
   "toc_position": {},
   "toc_section_display": true,
   "toc_window_display": true
  },
  "varInspector": {
   "cols": {
    "lenName": 16,
    "lenType": 16,
    "lenVar": 40
   },
   "kernels_config": {
    "python": {
     "delete_cmd_postfix": "",
     "delete_cmd_prefix": "del ",
     "library": "var_list.py",
     "varRefreshCmd": "print(var_dic_list())"
    },
    "r": {
     "delete_cmd_postfix": ") ",
     "delete_cmd_prefix": "rm(",
     "library": "var_list.r",
     "varRefreshCmd": "cat(var_dic_list()) "
    }
   },
   "types_to_exclude": [
    "module",
    "function",
    "builtin_function_or_method",
    "instance",
    "_Feature"
   ],
   "window_display": false
  }
 },
 "nbformat": 4,
 "nbformat_minor": 2
}
