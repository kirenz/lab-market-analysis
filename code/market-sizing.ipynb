{
 "cells": [
  {
   "cell_type": "markdown",
   "metadata": {},
   "source": [
    "Prof. Dr. Kirenz <br/>\n",
    "HdM Stuttgart\n",
    "\n",
    "---\n",
    "\n",
    "# Market Research Case I\n",
    "\n",
    "- You are a market researcher in the department of company X. \n",
    "- There are three different customer segments in your market.\n",
    "- You’re two top competitors are the companies Y and Z.\n",
    "\n",
    "---"
   ]
  },
  {
   "cell_type": "markdown",
   "metadata": {
    "toc": true
   },
   "source": [
    "<h1>Table of Contents<span class=\"tocSkip\"></span></h1>\n",
    "<div class=\"toc\"><ul class=\"toc-item\"><li><span><a href=\"#Market-Penetration\" data-toc-modified-id=\"Market-Penetration-1\"><span class=\"toc-item-num\">1&nbsp;&nbsp;</span>Market Penetration</a></span></li><li><span><a href=\"#Market-Overview-by-Customer-Segment\" data-toc-modified-id=\"Market-Overview-by-Customer-Segment-2\"><span class=\"toc-item-num\">2&nbsp;&nbsp;</span>Market Overview by Customer Segment</a></span></li><li><span><a href=\"#Potential-Market-Sales\" data-toc-modified-id=\"Potential-Market-Sales-3\"><span class=\"toc-item-num\">3&nbsp;&nbsp;</span>Potential Market Sales</a></span></li><li><span><a href=\"#Current-Market-Sales\" data-toc-modified-id=\"Current-Market-Sales-4\"><span class=\"toc-item-num\">4&nbsp;&nbsp;</span>Current Market Sales</a></span></li><li><span><a href=\"#Current-Market-Share-by-Segment\" data-toc-modified-id=\"Current-Market-Share-by-Segment-5\"><span class=\"toc-item-num\">5&nbsp;&nbsp;</span>Current Market Share by Segment</a></span></li><li><span><a href=\"#Current-Market-Units-and-Average-Price\" data-toc-modified-id=\"Current-Market-Units-and-Average-Price-6\"><span class=\"toc-item-num\">6&nbsp;&nbsp;</span>Current Market Units and Average Price</a></span></li><li><span><a href=\"#Current-Market-Average-Units-and-Price-by-Brand\" data-toc-modified-id=\"Current-Market-Average-Units-and-Price-by-Brand-7\"><span class=\"toc-item-num\">7&nbsp;&nbsp;</span>Current Market Average Units and Price by Brand</a></span></li><li><span><a href=\"#Current-Market-Share-by-Brand\" data-toc-modified-id=\"Current-Market-Share-by-Brand-8\"><span class=\"toc-item-num\">8&nbsp;&nbsp;</span>Current Market Share by Brand</a></span></li></ul></div>"
   ]
  },
  {
   "cell_type": "markdown",
   "metadata": {},
   "source": [
    "## Market Penetration\n",
    "\n",
    "- a) Calculate the market penetration.\t\n",
    "- b) Determine the market growth opportunity."
   ]
  },
  {
   "cell_type": "code",
   "execution_count": 4,
   "metadata": {},
   "outputs": [],
   "source": [
    "# Market potential\n",
    "potential_customers = 4000000\n",
    "# Market volume\n",
    "current_customers = 34567"
   ]
  },
  {
   "cell_type": "markdown",
   "metadata": {},
   "source": [
    " a) Market Penetration (percentage)"
   ]
  },
  {
   "cell_type": "code",
   "execution_count": null,
   "metadata": {},
   "outputs": [],
   "source": [
    "market_penetration = "
   ]
  },
  {
   "cell_type": "code",
   "execution_count": 2,
   "metadata": {},
   "outputs": [],
   "source": [
    "foo = 1"
   ]
  },
  {
   "cell_type": "code",
   "execution_count": 5,
   "metadata": {},
   "outputs": [
    {
     "name": "stdout",
     "output_type": "stream",
     "text": [
      "The market penetration equals 1 %\n"
     ]
    }
   ],
   "source": [
    "print('The market penetration equals', foo,'%')"
   ]
  },
  {
   "cell_type": "markdown",
   "metadata": {},
   "source": [
    "b) Growth opportunity (percentage)"
   ]
  },
  {
   "cell_type": "code",
   "execution_count": null,
   "metadata": {},
   "outputs": [],
   "source": [
    "growth_opp"
   ]
  },
  {
   "cell_type": "markdown",
   "metadata": {},
   "source": [
    "**Interpretation**: \n",
    "\n",
    "\n",
    "---"
   ]
  },
  {
   "cell_type": "markdown",
   "metadata": {},
   "source": [
    "## Market Overview by Customer Segment\n",
    "\n",
    "Calculate the growth potential for each of the user segments. "
   ]
  },
  {
   "cell_type": "code",
   "execution_count": 6,
   "metadata": {},
   "outputs": [],
   "source": [
    "# Market Segments for Potential Market (pm = potential market): Number of Users\n",
    "pm_first_users  = foo\n",
    "pm_second_users = foo\n",
    "pm_third_users  = foo\n",
    "\n",
    "# Market Segments for Current Market (cm = current market): Number of Users\n",
    "cm_first_users  = foo\n",
    "cm_second_users = foo\n",
    "cm_third_users  = foo"
   ]
  },
  {
   "cell_type": "code",
   "execution_count": null,
   "metadata": {},
   "outputs": [],
   "source": []
  },
  {
   "cell_type": "markdown",
   "metadata": {},
   "source": [
    "---"
   ]
  },
  {
   "cell_type": "markdown",
   "metadata": {},
   "source": [
    "## Potential Market Sales \n",
    "\n",
    "- a) Estimate potential annual sales in units for each customer segment. \n",
    "    \n",
    "- b) Determine total potential sales in units for the whole market.\n",
    "    \n",
    "- c) Estimate annual potential sales in revenue for each customer segment.\n",
    "    \n",
    "- d) Determine total potential sales in revenue for the whole market.\n"
   ]
  },
  {
   "cell_type": "code",
   "execution_count": 10,
   "metadata": {},
   "outputs": [],
   "source": [
    " # Market Segments for Current Market: Average Units per Year \n",
    "cm_first_users_units  = foo\n",
    "cm_second_users_units = foo\n",
    "cm_third_users_units  = foo\n",
    "\n",
    "# Market Segments for Current Market: Average Price Paid\n",
    "cm_first_users_price  = foo\n",
    "cm_second_users_price = foo\n",
    "cm_third_users_price  = foo"
   ]
  },
  {
   "cell_type": "markdown",
   "metadata": {},
   "source": [
    "a) Estimate potential annual sales in units for each customer segment. "
   ]
  },
  {
   "cell_type": "code",
   "execution_count": null,
   "metadata": {},
   "outputs": [],
   "source": []
  },
  {
   "cell_type": "markdown",
   "metadata": {},
   "source": [
    "b) Determine total potential sales in units for the whole market."
   ]
  },
  {
   "cell_type": "code",
   "execution_count": null,
   "metadata": {},
   "outputs": [],
   "source": []
  },
  {
   "cell_type": "markdown",
   "metadata": {},
   "source": [
    "c) Estimate annual potential sales in revenue for each customer segment."
   ]
  },
  {
   "cell_type": "code",
   "execution_count": null,
   "metadata": {},
   "outputs": [],
   "source": []
  },
  {
   "cell_type": "markdown",
   "metadata": {},
   "source": [
    "d) Determine total potential sales in revenue for the whole market."
   ]
  },
  {
   "cell_type": "code",
   "execution_count": null,
   "metadata": {},
   "outputs": [],
   "source": []
  },
  {
   "cell_type": "markdown",
   "metadata": {},
   "source": [
    "---"
   ]
  },
  {
   "cell_type": "markdown",
   "metadata": {},
   "source": [
    "## Current Market Sales\n",
    "\n",
    "- a)\tCalculate the current market sales in units by segment. \n",
    "- b)\tAdd up the segment results to find the total current sales in units.\n",
    "- c)\tCalculate the current market sales in revenue by segment. \n",
    "- d)\tAdd up the segment results to find the total current sales in revenue.\n"
   ]
  },
  {
   "cell_type": "markdown",
   "metadata": {},
   "source": [
    "a) Calculate the current market sales in units by segment. "
   ]
  },
  {
   "cell_type": "code",
   "execution_count": null,
   "metadata": {},
   "outputs": [],
   "source": []
  },
  {
   "cell_type": "markdown",
   "metadata": {},
   "source": [
    "b) Add up the segment results to find the total current sales in units."
   ]
  },
  {
   "cell_type": "code",
   "execution_count": null,
   "metadata": {},
   "outputs": [],
   "source": []
  },
  {
   "cell_type": "markdown",
   "metadata": {},
   "source": [
    "c) Calculate the current market sales in revenue by segment. "
   ]
  },
  {
   "cell_type": "code",
   "execution_count": null,
   "metadata": {},
   "outputs": [],
   "source": []
  },
  {
   "cell_type": "markdown",
   "metadata": {},
   "source": [
    "d)\tAdd up the segment results to find the total current sales in revenue."
   ]
  },
  {
   "cell_type": "code",
   "execution_count": null,
   "metadata": {},
   "outputs": [],
   "source": []
  },
  {
   "cell_type": "markdown",
   "metadata": {},
   "source": [
    "---"
   ]
  },
  {
   "cell_type": "markdown",
   "metadata": {},
   "source": [
    "## Current Market Share by Segment\n",
    "\n",
    "Calculate the market share of each segment of the current market in terms of\n",
    "\n",
    "- a)\tcustomers.\n",
    "- b)\tunits sold. \n",
    "- c)\trevenue.\n"
   ]
  },
  {
   "cell_type": "markdown",
   "metadata": {},
   "source": [
    "a) customers"
   ]
  },
  {
   "cell_type": "code",
   "execution_count": null,
   "metadata": {},
   "outputs": [],
   "source": []
  },
  {
   "cell_type": "markdown",
   "metadata": {},
   "source": [
    "b) units sold"
   ]
  },
  {
   "cell_type": "code",
   "execution_count": null,
   "metadata": {},
   "outputs": [],
   "source": []
  },
  {
   "cell_type": "markdown",
   "metadata": {},
   "source": [
    "---"
   ]
  },
  {
   "cell_type": "markdown",
   "metadata": {},
   "source": [
    "## Current Market Units and Average Price\n",
    "\n",
    "- a)\tUse the current market’s total sales to determine, on average, how many units each customer purchases.\n",
    "\n",
    "- b)\tUse the current market’s total sales to determine, on average, at what price each customer purchases."
   ]
  },
  {
   "cell_type": "markdown",
   "metadata": {},
   "source": [
    "a) Use the current market’s total sales to determine, on average, how many units each customer purchases."
   ]
  },
  {
   "cell_type": "code",
   "execution_count": null,
   "metadata": {},
   "outputs": [],
   "source": []
  },
  {
   "cell_type": "markdown",
   "metadata": {},
   "source": [
    "b)\tUse the current market’s total sales to determine, on average, at what price each customer purchases."
   ]
  },
  {
   "cell_type": "code",
   "execution_count": null,
   "metadata": {},
   "outputs": [],
   "source": []
  },
  {
   "cell_type": "markdown",
   "metadata": {},
   "source": [
    "---\n",
    "---"
   ]
  },
  {
   "cell_type": "markdown",
   "metadata": {},
   "source": [
    "**Use the Python module Pandas to solve task 7 and 8**. "
   ]
  },
  {
   "cell_type": "code",
   "execution_count": 27,
   "metadata": {},
   "outputs": [],
   "source": [
    "import pandas as pd"
   ]
  },
  {
   "cell_type": "code",
   "execution_count": 28,
   "metadata": {},
   "outputs": [],
   "source": [
    "df = pd.DataFrame(\n",
    "   {'company' : ['X', 'Y', 'Z'],\n",
    "    'customers_year': [10000000, 6000000, 4000000],\n",
    "    'units_year': [90000000, 63000000, 80000000],\n",
    "    'revenue_year': [429000000, 125000000, 75000000]})"
   ]
  },
  {
   "cell_type": "code",
   "execution_count": 30,
   "metadata": {
    "scrolled": false
   },
   "outputs": [
    {
     "data": {
      "text/html": [
       "<div>\n",
       "<style scoped>\n",
       "    .dataframe tbody tr th:only-of-type {\n",
       "        vertical-align: middle;\n",
       "    }\n",
       "\n",
       "    .dataframe tbody tr th {\n",
       "        vertical-align: top;\n",
       "    }\n",
       "\n",
       "    .dataframe thead th {\n",
       "        text-align: right;\n",
       "    }\n",
       "</style>\n",
       "<table border=\"1\" class=\"dataframe\">\n",
       "  <thead>\n",
       "    <tr style=\"text-align: right;\">\n",
       "      <th></th>\n",
       "      <th>company</th>\n",
       "      <th>customers_year</th>\n",
       "      <th>units_year</th>\n",
       "      <th>revenue_year</th>\n",
       "    </tr>\n",
       "  </thead>\n",
       "  <tbody>\n",
       "    <tr>\n",
       "      <th>0</th>\n",
       "      <td>X</td>\n",
       "      <td>10000000</td>\n",
       "      <td>90000000</td>\n",
       "      <td>429000000</td>\n",
       "    </tr>\n",
       "    <tr>\n",
       "      <th>1</th>\n",
       "      <td>Y</td>\n",
       "      <td>6000000</td>\n",
       "      <td>63000000</td>\n",
       "      <td>125000000</td>\n",
       "    </tr>\n",
       "    <tr>\n",
       "      <th>2</th>\n",
       "      <td>Z</td>\n",
       "      <td>4000000</td>\n",
       "      <td>80000000</td>\n",
       "      <td>75000000</td>\n",
       "    </tr>\n",
       "  </tbody>\n",
       "</table>\n",
       "</div>"
      ],
      "text/plain": [
       "  company  customers_year  units_year  revenue_year\n",
       "0       X        10000000    90000000     429000000\n",
       "1       Y         6000000    63000000     125000000\n",
       "2       Z         4000000    80000000      75000000"
      ]
     },
     "execution_count": 30,
     "metadata": {},
     "output_type": "execute_result"
    }
   ],
   "source": [
    "df"
   ]
  },
  {
   "cell_type": "markdown",
   "metadata": {},
   "source": [
    "## Current Market Average Units and Price by Brand\n",
    "\n",
    "- a)\tCalculate the average number of units purchased by a customer of X, Y, and Z.\n",
    "\n"
   ]
  },
  {
   "cell_type": "markdown",
   "metadata": {},
   "source": [
    "a)\tCalculate the average number of units purchased by a customer of X, Y, and Z."
   ]
  },
  {
   "cell_type": "code",
   "execution_count": null,
   "metadata": {},
   "outputs": [],
   "source": []
  },
  {
   "cell_type": "markdown",
   "metadata": {},
   "source": [
    "b)\tCompare these results with the general averages that you calculated in task 6."
   ]
  },
  {
   "cell_type": "code",
   "execution_count": null,
   "metadata": {},
   "outputs": [],
   "source": []
  },
  {
   "cell_type": "markdown",
   "metadata": {},
   "source": [
    "---"
   ]
  },
  {
   "cell_type": "markdown",
   "metadata": {},
   "source": [
    "## Current Market Share by Brand\n",
    "\n",
    "Analyze the market share of each brand in terms of:\n",
    "- a)\tcustomers.\n",
    "- b)\tunits.\n",
    "- c)\trevenue.\n"
   ]
  },
  {
   "cell_type": "markdown",
   "metadata": {},
   "source": [
    "a)\tcustomers."
   ]
  },
  {
   "cell_type": "code",
   "execution_count": null,
   "metadata": {},
   "outputs": [],
   "source": []
  },
  {
   "cell_type": "markdown",
   "metadata": {},
   "source": [
    "b)\tunits."
   ]
  },
  {
   "cell_type": "code",
   "execution_count": null,
   "metadata": {},
   "outputs": [],
   "source": []
  },
  {
   "cell_type": "markdown",
   "metadata": {},
   "source": [
    "c)\trevenue."
   ]
  },
  {
   "cell_type": "code",
   "execution_count": null,
   "metadata": {},
   "outputs": [],
   "source": []
  }
 ],
 "metadata": {
  "kernelspec": {
   "display_name": "Python 3",
   "language": "python",
   "name": "python3"
  },
  "language_info": {
   "codemirror_mode": {
    "name": "ipython",
    "version": 3
   },
   "file_extension": ".py",
   "mimetype": "text/x-python",
   "name": "python",
   "nbconvert_exporter": "python",
   "pygments_lexer": "ipython3",
   "version": "3.6.8"
  },
  "toc": {
   "base_numbering": 1,
   "nav_menu": {},
   "number_sections": true,
   "sideBar": true,
   "skip_h1_title": true,
   "title_cell": "Table of Contents",
   "title_sidebar": "Contents",
   "toc_cell": true,
   "toc_position": {},
   "toc_section_display": true,
   "toc_window_display": true
  },
  "varInspector": {
   "cols": {
    "lenName": 16,
    "lenType": 16,
    "lenVar": 40
   },
   "kernels_config": {
    "python": {
     "delete_cmd_postfix": "",
     "delete_cmd_prefix": "del ",
     "library": "var_list.py",
     "varRefreshCmd": "print(var_dic_list())"
    },
    "r": {
     "delete_cmd_postfix": ") ",
     "delete_cmd_prefix": "rm(",
     "library": "var_list.r",
     "varRefreshCmd": "cat(var_dic_list()) "
    }
   },
   "types_to_exclude": [
    "module",
    "function",
    "builtin_function_or_method",
    "instance",
    "_Feature"
   ],
   "window_display": false
  }
 },
 "nbformat": 4,
 "nbformat_minor": 2
}
